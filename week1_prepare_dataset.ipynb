{
 "cells": [
  {
   "cell_type": "code",
   "execution_count": 2,
   "metadata": {
    "collapsed": true
   },
   "outputs": [],
   "source": [
    "from __future__ import division, print_function\n",
    "import warnings\n",
    "warnings.filterwarnings('ignore')\n",
    "from glob import glob\n",
    "import os\n",
    "import pickle\n",
    "#pip install tqdm\n",
    "from tqdm import tqdm_notebook\n",
    "import numpy as np\n",
    "import pandas as pd\n",
    "from scipy.sparse import csr_matrix\n",
    "import re"
   ]
  },
  {
   "cell_type": "code",
   "execution_count": 3,
   "metadata": {
    "collapsed": true
   },
   "outputs": [],
   "source": [
    "PATH_TO_DATA = '/home/ann/python/capstone_user_identification'"
   ]
  },
  {
   "cell_type": "code",
   "execution_count": 4,
   "metadata": {},
   "outputs": [
    {
     "name": "stdout",
     "output_type": "stream",
     "text": [
      "   site1  site2  site3  site4  site5  site6  site7  site8  site9  site10  \\\n",
      "0      0      1      2      2      1      0      0      0      0       0   \n",
      "\n",
      "  user_id  \n",
      "0     002  \n",
      "======\n",
      "{'vk.com': [0, 1], 'oracle.com': [1, 2], 'football.kulichki.ru': [2, 2]}\n",
      "======\n",
      "   site1  site2  site3  site4  site5  site6  site7  site8  site9  site10  \\\n",
      "0      0      1      2      1      2      1      1      3      4       0   \n",
      "1      0      1      2      0      0      0      0      0      0       0   \n",
      "\n",
      "  user_id  \n",
      "0     003  \n",
      "1     003  \n",
      "======\n",
      "{'meduza.io': [0, 3], 'google.com': [1, 5], 'oracle.com': [2, 3]}\n",
      "======\n",
      "   site1  site2  site3  site4  site5  site6  site7  site8  site9  site10  \\\n",
      "0      0      1      1      2      1      3      4      5      6       7   \n",
      "1      0      3      3      3      0      0      0      0      0       0   \n",
      "\n",
      "  user_id  \n",
      "0     001  \n",
      "1     001  \n",
      "======\n",
      "{'vk.com': [0, 2], 'oracle.com': [1, 3], 'geo.mozilla.org': [2, 1], 'google.com': [3, 4], 'accounts.google.com': [4, 1], 'mail.google.com': [5, 1]}\n",
      "======\n"
     ]
    }
   ],
   "source": [
    "def prepare_train_set(path_to_csv_files, session_length=10):\n",
    "    df = pd.read_csv(path_to_csv_files)\n",
    "    df['ID'] = pd.factorize(df.site)[0]\n",
    "    df['frequency'] = df.groupby('ID', as_index=False)['site'].transform(lambda s: s.count())\n",
    "    dictionary = df[['site', 'ID', 'frequency']].loc[pd.unique(df['ID'])]\n",
    "    dct = dictionary.set_index('site').T.to_dict('list')\n",
    "    user_id  = path_to_csv_files[-7:-4]\n",
    "    N = 10\n",
    "    data = np.pad(df['ID'], (0, int(np.ceil(len(df['ID']) / N)) * N - len(df['ID'])), mode='constant')\n",
    "    df2 = pd.DataFrame(data.reshape(-1, N), columns=np.arange(1, N+1)).add_prefix('site').assign(user_id=user_id)\n",
    "    \n",
    "    print(df2) \n",
    "    print(\"======\")\n",
    "    print(dct)\n",
    "    print(\"======\")\n",
    "    \n",
    "    \n",
    "    return dct\n",
    "    \n",
    "    \n",
    "    \n",
    "import glob\n",
    "for path in glob.glob(os.path.join(PATH_TO_DATA,'3users/user*[0-9].csv')):\n",
    "    #print(os.path.isfile(path)) \n",
    "    prepare_train_set(path, 10)\n",
    "    "
   ]
  },
  {
   "cell_type": "code",
   "execution_count": null,
   "metadata": {
    "collapsed": true
   },
   "outputs": [],
   "source": []
  },
  {
   "cell_type": "code",
   "execution_count": 13,
   "metadata": {},
   "outputs": [
    {
     "name": "stderr",
     "output_type": "stream",
     "text": [
      "ERROR:root:Line magic function `%paste` not found.\n"
     ]
    }
   ],
   "source": []
  },
  {
   "cell_type": "code",
   "execution_count": null,
   "metadata": {
    "collapsed": true
   },
   "outputs": [],
   "source": []
  }
 ],
 "metadata": {
  "kernelspec": {
   "display_name": "Python 3",
   "language": "python",
   "name": "python3"
  },
  "language_info": {
   "codemirror_mode": {
    "name": "ipython",
    "version": 3
   },
   "file_extension": ".py",
   "mimetype": "text/x-python",
   "name": "python",
   "nbconvert_exporter": "python",
   "pygments_lexer": "ipython3",
   "version": "3.6.1"
  }
 },
 "nbformat": 4,
 "nbformat_minor": 2
}
