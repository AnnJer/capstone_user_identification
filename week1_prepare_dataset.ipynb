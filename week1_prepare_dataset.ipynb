{
 "cells": [
  {
   "cell_type": "code",
   "execution_count": 2,
   "metadata": {
    "collapsed": true
   },
   "outputs": [],
   "source": [
    "from __future__ import division, print_function\n",
    "import warnings\n",
    "warnings.filterwarnings('ignore')\n",
    "from glob import glob\n",
    "import os\n",
    "import pickle\n",
    "#pip install tqdm\n",
    "from tqdm import tqdm_notebook\n",
    "import numpy as np\n",
    "import pandas as pd\n",
    "from scipy.sparse import csr_matrix\n",
    "import re"
   ]
  },
  {
   "cell_type": "code",
   "execution_count": 3,
   "metadata": {
    "collapsed": true
   },
   "outputs": [],
   "source": [
    "PATH_TO_DATA = '/home/ann/python/capstone_user_identification'"
   ]
  },
  {
   "cell_type": "code",
   "execution_count": 5,
   "metadata": {},
   "outputs": [],
   "source": [
    "def prepare_train_set(path_to_csv_files, session_length=10):\n",
    "    df = pd.read_csv(path_to_csv_files)\n",
    "    df['ID'] = pd.factorize(df.site)[0]\n",
    "    df['frequency'] = df.groupby('ID', as_index=False)['site'].transform(lambda s: s.count())\n",
    "    dictionary = df[['site', 'ID', 'frequency']].loc[pd.unique(df['ID'])]\n",
    "    dct = dictionary.set_index('site').T.to_dict('list')\n",
    "    user_id  = path_to_csv_files[-7:-4]\n",
    "    N = 10\n",
    "    data = np.pad(df['ID'], (0, int(np.ceil(len(df['ID']) / N)) * N - len(df['ID'])), mode='constant')\n",
    "    df2 = pd.DataFrame(data.reshape(-1, N), columns=np.arange(1, N+1)).add_prefix('site').assign(user_id=user_id)\n",
    "    \n",
    "    return dct, df2\n",
    "    \n",
    "    \n",
    "    \n",
    "import glob\n",
    "for path in glob.glob(os.path.join(PATH_TO_DATA,'3users/user*[0-9].csv')):\n",
    "    #print(os.path.isfile(path)) \n",
    "    prepare_train_set(path, 10)\n",
    "    "
   ]
  }
 ],
 "metadata": {
  "kernelspec": {
   "display_name": "Python 3",
   "language": "python",
   "name": "python3"
  },
  "language_info": {
   "codemirror_mode": {
    "name": "ipython",
    "version": 3
   },
   "file_extension": ".py",
   "mimetype": "text/x-python",
   "name": "python",
   "nbconvert_exporter": "python",
   "pygments_lexer": "ipython3",
   "version": "3.6.1"
  }
 },
 "nbformat": 4,
 "nbformat_minor": 2
}
